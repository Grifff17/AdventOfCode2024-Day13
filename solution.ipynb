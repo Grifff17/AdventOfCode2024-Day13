{
 "cells": [
  {
   "cell_type": "code",
   "execution_count": 1,
   "metadata": {},
   "outputs": [],
   "source": [
    "import pandas as pd\n",
    "import numpy as np\n",
    "from utils import *\n",
    "import math\n",
    "import functools\n",
    "import copy"
   ]
  },
  {
   "cell_type": "code",
   "execution_count": 2,
   "metadata": {},
   "outputs": [],
   "source": [
    "data = fileRead(\"input.txt\")"
   ]
  },
  {
   "cell_type": "markdown",
   "metadata": {},
   "source": [
    "## Part 1"
   ]
  },
  {
   "cell_type": "code",
   "execution_count": 3,
   "metadata": {},
   "outputs": [],
   "source": [
    "class Claw:\n",
    "    def __init__(self, buttonA, buttonB, prize):\n",
    "        self.buttonA = buttonA\n",
    "        self.buttonB = buttonB\n",
    "        self.prize = prize"
   ]
  },
  {
   "cell_type": "code",
   "execution_count": 4,
   "metadata": {},
   "outputs": [],
   "source": [
    "claws = []\n",
    "buttonA = tuple()\n",
    "buttonB = tuple()\n",
    "prize = tuple()\n",
    "for row in data:\n",
    "    if row == '\\n':\n",
    "        claws.append(Claw(buttonA,buttonB,prize))\n",
    "        continue\n",
    "    split = row.split(\":\")\n",
    "    if split[0] == 'Button A':\n",
    "        coords = split[1].split(\"+\")\n",
    "        x = int(coords[1].split(\",\")[0])\n",
    "        y = int(coords[2].split(\"\\n\")[0])\n",
    "        buttonA = (x,y)\n",
    "    elif split[0] == \"Button B\":\n",
    "        coords = split[1].split(\"+\")\n",
    "        x = int(coords[1].split(\",\")[0])\n",
    "        y = int(coords[2].split(\"\\n\")[0])\n",
    "        buttonB = (x,y)\n",
    "    else:\n",
    "        coords = split[1].split(\"=\")\n",
    "        x = int(coords[1].split(\",\")[0])\n",
    "        y = int(coords[2].split(\"\\n\")[0])\n",
    "        prize = (x,y)\n",
    "claws.append(Claw(buttonA,buttonB,prize))"
   ]
  },
  {
   "cell_type": "code",
   "execution_count": 5,
   "metadata": {},
   "outputs": [
    {
     "data": {
      "text/plain": [
       "40369"
      ]
     },
     "execution_count": 5,
     "metadata": {},
     "output_type": "execute_result"
    }
   ],
   "source": [
    "sum = 0\n",
    "for claw in claws:\n",
    "    bestCost = 1000\n",
    "    for i in range(1, 101):\n",
    "        for j in range(1,101):\n",
    "            curPos = posAdd(posMult(claw.buttonA, (i,i)), posMult(claw.buttonB, (j,j)))\n",
    "            cost = 3*i + j\n",
    "            if curPos == claw.prize and cost < bestCost:\n",
    "                bestCost = cost\n",
    "            \n",
    "            if curPos[0] > claw.prize[0] or curPos[1] > claw.prize[1]:\n",
    "                continue\n",
    "\n",
    "    if bestCost != 1000:\n",
    "        sum = sum + bestCost\n",
    "sum"
   ]
  },
  {
   "cell_type": "markdown",
   "metadata": {},
   "source": [
    "## Part 2"
   ]
  },
  {
   "cell_type": "code",
   "execution_count": 6,
   "metadata": {},
   "outputs": [],
   "source": [
    "for claw in claws:\n",
    "    claw.prize = posAdd(claw.prize, (10000000000000,10000000000000))"
   ]
  },
  {
   "cell_type": "code",
   "execution_count": 7,
   "metadata": {},
   "outputs": [
    {
     "data": {
      "text/plain": [
       "(10000000004245, 10000000005634)"
      ]
     },
     "execution_count": 7,
     "metadata": {},
     "output_type": "execute_result"
    }
   ],
   "source": [
    "claws[0].prize"
   ]
  },
  {
   "cell_type": "code",
   "execution_count": 8,
   "metadata": {},
   "outputs": [
    {
     "data": {
      "text/plain": [
       "72587986598368"
      ]
     },
     "execution_count": 8,
     "metadata": {},
     "output_type": "execute_result"
    }
   ],
   "source": [
    "sum = 0\n",
    "for claw in claws:\n",
    "    a = np.array([[claw.buttonA[0],claw.buttonB[0]],[claw.buttonA[1],claw.buttonB[1]]])\n",
    "    b = np.array([claw.prize[0],claw.prize[1]])\n",
    "    res = np.linalg.solve(a,b)\n",
    "    if math.isclose(res[0], round(res[0]), rel_tol=1e-14) and math.isclose(res[1], round(res[1]), rel_tol=1e-14):\n",
    "        cost = (res[0]*3) + res[1]\n",
    "        sum = sum + cost\n",
    "int(sum)"
   ]
  }
 ],
 "metadata": {
  "kernelspec": {
   "display_name": "base",
   "language": "python",
   "name": "python3"
  },
  "language_info": {
   "codemirror_mode": {
    "name": "ipython",
    "version": 3
   },
   "file_extension": ".py",
   "mimetype": "text/x-python",
   "name": "python",
   "nbconvert_exporter": "python",
   "pygments_lexer": "ipython3",
   "version": "3.11.7"
  }
 },
 "nbformat": 4,
 "nbformat_minor": 2
}
